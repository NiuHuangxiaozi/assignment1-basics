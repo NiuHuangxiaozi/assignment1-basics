{
 "cells": [
  {
   "cell_type": "markdown",
   "id": "bb385651",
   "metadata": {},
   "source": [
    "# 这个是我系统的学习大模型的jupter book"
   ]
  },
  {
   "cell_type": "code",
   "execution_count": 14,
   "id": "7d7a2d1d",
   "metadata": {},
   "outputs": [
    {
     "data": {
      "text/plain": [
       "29275"
      ]
     },
     "execution_count": 14,
     "metadata": {},
     "output_type": "execute_result"
    }
   ],
   "source": [
    "ord(\"牛\")"
   ]
  },
  {
   "cell_type": "code",
   "execution_count": 15,
   "id": "aaee1667",
   "metadata": {},
   "outputs": [
    {
     "data": {
      "text/plain": [
       "'\\x00'"
      ]
     },
     "execution_count": 15,
     "metadata": {},
     "output_type": "execute_result"
    }
   ],
   "source": [
    "chr(43)\n",
    "chr(0)"
   ]
  },
  {
   "cell_type": "code",
   "execution_count": 16,
   "id": "14c64816",
   "metadata": {},
   "outputs": [
    {
     "name": "stdout",
     "output_type": "stream",
     "text": [
      "a is a\n",
      "a.__repr__() is 'a'\n"
     ]
    }
   ],
   "source": [
    "a = \"a\"\n",
    "print(f\"a is {a}\")\n",
    "print(f\"a.__repr__() is {a.__repr__()}\")"
   ]
  },
  {
   "cell_type": "code",
   "execution_count": 17,
   "id": "247e0e9e",
   "metadata": {},
   "outputs": [
    {
     "data": {
      "text/plain": [
       "'\\x00'"
      ]
     },
     "execution_count": 17,
     "metadata": {},
     "output_type": "execute_result"
    }
   ],
   "source": [
    "chr(0)"
   ]
  },
  {
   "cell_type": "code",
   "execution_count": 18,
   "id": "ab48c0e9",
   "metadata": {},
   "outputs": [
    {
     "name": "stdout",
     "output_type": "stream",
     "text": [
      "\u0000\n"
     ]
    }
   ],
   "source": [
    "print(chr(0))"
   ]
  },
  {
   "cell_type": "code",
   "execution_count": 19,
   "id": "7d9e0a9d",
   "metadata": {},
   "outputs": [
    {
     "data": {
      "text/plain": [
       "'this is a test\\x00string'"
      ]
     },
     "execution_count": 19,
     "metadata": {},
     "output_type": "execute_result"
    }
   ],
   "source": [
    "\"this is a test\" + chr(0) + \"string\""
   ]
  },
  {
   "cell_type": "code",
   "execution_count": 20,
   "id": "5346e8e8",
   "metadata": {},
   "outputs": [
    {
     "name": "stdout",
     "output_type": "stream",
     "text": [
      "this is a test\u0000string\n"
     ]
    }
   ],
   "source": [
    "print(\"this is a test\" + chr(0) + \"string\")"
   ]
  },
  {
   "cell_type": "markdown",
   "id": "9d8b645a",
   "metadata": {},
   "source": [
    "### 1.a\n",
    "chr(0) 的返回时\\x00\n",
    "### 1.b\n",
    "大一sicp学过，repr会把本质给打印出来，print更加注重可见性\n",
    "\n",
    "### 1.c \n",
    "同上"
   ]
  },
  {
   "cell_type": "code",
   "execution_count": 21,
   "id": "b3eb22e6",
   "metadata": {},
   "outputs": [
    {
     "name": "stdout",
     "output_type": "stream",
     "text": [
      "b'\\xe4\\xbd\\xa0\\xe5\\xa5\\xbd\\xef\\xbc\\x8c\\xe5\\x8d\\x97\\xe4\\xba\\xac'\n",
      "<class 'bytes'>\n",
      "[228, 189, 160, 229, 165, 189, 239, 188, 140, 229, 141, 151, 228, 186, 172]\n",
      "5\n",
      "15\n",
      "你好，南京\n"
     ]
    }
   ],
   "source": [
    "test_string = \"你好，南京\"\n",
    "utf8_encoded = test_string.encode(\"utf-8\")\n",
    "print(utf8_encoded)\n",
    "print(type(utf8_encoded))\n",
    "\n",
    "# get the integer\n",
    "listed_utf8_encoded = list(utf8_encoded)\n",
    "print(listed_utf8_encoded)\n",
    "\n",
    "print(len(test_string))\n",
    "print(len(listed_utf8_encoded))\n",
    "print(utf8_encoded.decode('utf-8'))\n"
   ]
  },
  {
   "cell_type": "markdown",
   "id": "e33e680d",
   "metadata": {},
   "source": [
    "## 下面对比使用utf-8和utf-16，utf-32有什么区别\n",
    "对应英文节省空间啊，对于汉语可能utf-16有优势，但是中英文数字标点都存在，所以差距可以接受；对于emj都是4字节，无区别"
   ]
  },
  {
   "cell_type": "code",
   "execution_count": 22,
   "id": "4a56da53",
   "metadata": {},
   "outputs": [
    {
     "name": "stdout",
     "output_type": "stream",
     "text": [
      "utf8_encoded is b'hello, nanjing' \n",
      "         utf16_encoded is b'\\xff\\xfeh\\x00e\\x00l\\x00l\\x00o\\x00,\\x00 \\x00n\\x00a\\x00n\\x00j\\x00i\\x00n\\x00g\\x00' \n",
      "         utf32_encoded is b'\\xff\\xfe\\x00\\x00h\\x00\\x00\\x00e\\x00\\x00\\x00l\\x00\\x00\\x00l\\x00\\x00\\x00o\\x00\\x00\\x00,\\x00\\x00\\x00 \\x00\\x00\\x00n\\x00\\x00\\x00a\\x00\\x00\\x00n\\x00\\x00\\x00j\\x00\\x00\\x00i\\x00\\x00\\x00n\\x00\\x00\\x00g\\x00\\x00\\x00' \n",
      " \n",
      "listed_utf8_encoded is [104, 101, 108, 108, 111, 44, 32, 110, 97, 110, 106, 105, 110, 103] length : 14 \n",
      "         listed_utf16_encoded is [255, 254, 104, 0, 101, 0, 108, 0, 108, 0, 111, 0, 44, 0, 32, 0, 110, 0, 97, 0, 110, 0, 106, 0, 105, 0, 110, 0, 103, 0]  length : 30 \n",
      "         listed_utf32_encoded is [255, 254, 0, 0, 104, 0, 0, 0, 101, 0, 0, 0, 108, 0, 0, 0, 108, 0, 0, 0, 111, 0, 0, 0, 44, 0, 0, 0, 32, 0, 0, 0, 110, 0, 0, 0, 97, 0, 0, 0, 110, 0, 0, 0, 106, 0, 0, 0, 105, 0, 0, 0, 110, 0, 0, 0, 103, 0, 0, 0] length : 60 \n",
      " \n"
     ]
    }
   ],
   "source": [
    "s = \"hello, nanjing\"\n",
    "utf8_encoded = s.encode('utf-8')\n",
    "utf16_encoded = s.encode('utf-16')\n",
    "utf32_encoded = s.encode('utf-32')\n",
    "print(f\"utf8_encoded is {utf8_encoded} \\n \\\n",
    "        utf16_encoded is {utf16_encoded} \\n \\\n",
    "        utf32_encoded is {utf32_encoded} \\n \")\n",
    "\n",
    "listed_utf8_encoded = list(utf8_encoded)\n",
    "listed_utf16_encoded = list(utf16_encoded)\n",
    "listed_utf32_encoded = list(utf32_encoded)\n",
    "\n",
    "print(f\"listed_utf8_encoded is {listed_utf8_encoded} length : {len(listed_utf8_encoded)} \\n \\\n",
    "        listed_utf16_encoded is {listed_utf16_encoded}  length : {len(listed_utf16_encoded)} \\n \\\n",
    "        listed_utf32_encoded is {listed_utf32_encoded} length : {len(listed_utf32_encoded)} \\n \")\n"
   ]
  },
  {
   "cell_type": "markdown",
   "id": "cf9ab4c7",
   "metadata": {},
   "source": []
  },
  {
   "cell_type": "markdown",
   "id": "decee338",
   "metadata": {},
   "source": [
    "## 2.b 如果是一个字符能够用一个字节进行表示，那么正确，否则就是错误的"
   ]
  },
  {
   "cell_type": "code",
   "execution_count": 23,
   "id": "1621abb0",
   "metadata": {},
   "outputs": [
    {
     "name": "stdout",
     "output_type": "stream",
     "text": [
      "hello\n"
     ]
    }
   ],
   "source": [
    "s = \"南京\"\n",
    "p =\"hello\"\n",
    "def decode_utf8_bytes_to_str_wrong(bytestring: bytes):\n",
    "    return \"\".join([bytes([b]).decode(\"utf-8\") for b in bytestring])\n",
    "\n",
    "s_encoded =  s.encode('utf-8')\n",
    "p_encoded =  p.encode('utf-8')\n",
    "# s_decoded = decode_utf8_bytes_to_str_wrong(s_encoded)\n",
    "p_decoded = decode_utf8_bytes_to_str_wrong(p_encoded)\n",
    "\n",
    "# print(s_decoded)\n",
    "print(p_decoded)"
   ]
  },
  {
   "cell_type": "markdown",
   "id": "b9e42ad5",
   "metadata": {},
   "source": [
    "2.c 一个简单的例子是字节序列 **0xC0 0xAF**。\n",
    "解释：在 UTF-8 规则里，0xC0 是一个 “2 字节序列的起始字节”（它表示一个 ≥ 0x80 的字符），但紧接着的 0xAF 是合法的 “continuation” 字节，却这个组合被视为 “overlong encoding”（即用两字节来表示一个本应用一个字节的字符）而在标准 UTF-8 解码中必须被拒绝，因此这个两字节序列不被解码为任何有效 Unicode 字符。\n"
   ]
  },
  {
   "cell_type": "code",
   "execution_count": null,
   "id": "cc4e926f",
   "metadata": {},
   "outputs": [],
   "source": []
  }
 ],
 "metadata": {
  "kernelspec": {
   "display_name": "cs336-basics",
   "language": "python",
   "name": "python3"
  },
  "language_info": {
   "codemirror_mode": {
    "name": "ipython",
    "version": 3
   },
   "file_extension": ".py",
   "mimetype": "text/x-python",
   "name": "python",
   "nbconvert_exporter": "python",
   "pygments_lexer": "ipython3",
   "version": "3.12.7"
  }
 },
 "nbformat": 4,
 "nbformat_minor": 5
}
