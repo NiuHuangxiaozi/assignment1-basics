{
 "cells": [
  {
   "cell_type": "markdown",
   "id": "57322eb1",
   "metadata": {},
   "source": [
    "这里是回答bpe的相关问题的地方"
   ]
  },
  {
   "cell_type": "markdown",
   "id": "1ef0c8ff",
   "metadata": {},
   "source": []
  },
  {
   "cell_type": "markdown",
   "id": "557bec3b",
   "metadata": {},
   "source": [
    "# Problem (train_bpe_tinystories): BPE Training on TinyStories (2 points)\n",
    "(a) Train a byte-level BPE tokenizer on the TinyStories dataset, using a maximum vocabulary size\n",
    "of 10,000. Make sure to add the TinyStories <|endoftext|> special token to the vocabulary.\n",
    "Serialize the resulting vocabulary and merges to disk for further inspection. How many hours\n",
    "and memory did training take? What is the longest token in the vocabulary? Does it make sense?\n",
    "Resource requirements: ≤30 minutes (no GPUs), ≤ 30GB RAM\n",
    "\n",
    "Hint You should be able to get under 2 minutes for BPE training using multiprocessing during\n",
    "pretokenization and the following two facts:\n",
    "\n",
    "### (a) The <|endoftext|> token delimits documents in the data files.\n",
    "\n",
    "### (b) The <|endoftext|> token is handled as a special case before the BPE merges are applied.\n",
    "\n",
    "(b) Profile your code. What part of the tokenizer training process takes the most time?"
   ]
  },
  {
   "cell_type": "markdown",
   "id": "c46ec545",
   "metadata": {},
   "source": [
    "训练bpe的时候使用multiprocess进行并行化加速了，使用了两种写法，一种是mp.Pool, 但是这个程序卡死了；另一个方法是创建了一个list，里面放上每一个进程，但是会出现程序运行一会就挂起的情况，，使用top -H -p processs_numer 发现在sleeping， cpu利用率是零"
   ]
  },
  {
   "cell_type": "markdown",
   "id": "4b3dfad9",
   "metadata": {},
   "source": [
    "但是我使用倒排索引成功的将原本二三十分钟的训练bpe的过程压缩到了6分钟左右。原理是：我们每一次选出出现次数最多的byte pair之后，需要遍历整个文本的子序列进行更新（将相应的byte合并在一起），但是有了索引我们就能精准的修改那些拥有这个byte pair对的子序列。"
   ]
  },
  {
   "cell_type": "markdown",
   "id": "045bba10",
   "metadata": {},
   "source": [
    "时间瓶颈： 对文本进行pre-token和merge的更新"
   ]
  }
 ],
 "metadata": {
  "language_info": {
   "name": "python"
  }
 },
 "nbformat": 4,
 "nbformat_minor": 5
}
