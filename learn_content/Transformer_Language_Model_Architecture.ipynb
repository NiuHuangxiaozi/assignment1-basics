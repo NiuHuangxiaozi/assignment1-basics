{
 "cells": [
  {
   "cell_type": "markdown",
   "id": "d64080a3",
   "metadata": {},
   "source": [
    "# 所有张量的操作可以分为两个部分，一个是张量之间的操作，一个是内部的改变，所以我们可以定义两个约束语言，这样代码变得很好维护。\n",
    "这里指的就是einsum和 rearrage"
   ]
  },
  {
   "cell_type": "markdown",
   "id": "d3060a97",
   "metadata": {},
   "source": [
    "下面这段代码实现了对于每一张图片每一个像素点的线性映射，读起来不好理解"
   ]
  },
  {
   "cell_type": "code",
   "execution_count": null,
   "id": "1c3c8482",
   "metadata": {},
   "outputs": [],
   "source": [
    "import torch\n",
    "\n",
    "channels_last = torch.randn(64, 32, 32, 3) # (batch, height, width, channel)\n",
    "\n",
    "B = torch.randn(32*32, 32*32)\n",
    "\n",
    "## Rearrange an image tensor for mixing across all pixels\n",
    "\n",
    "channels_last_flat = channels_last.view(\n",
    "-1, channels_last.size(1) * channels_last.size(2), channels_last.size(3)\n",
    ")\n",
    "\n",
    "channels_first_flat = channels_last_flat.transpose(1, 2)\n",
    "channels_first_flat_transformed = channels_first_flat @ B.T\n",
    "channels_last_flat_transformed = channels_first_flat_transformed.transpose(1, 2)\n",
    "channels_last_transformed = channels_last_flat_transformed.view(*channels_last.shape)"
   ]
  },
  {
   "cell_type": "markdown",
   "id": "e2fb52dc",
   "metadata": {},
   "source": [
    "但是使用规约语言就十分的顺畅"
   ]
  },
  {
   "cell_type": "code",
   "execution_count": 17,
   "id": "4d27dbea",
   "metadata": {},
   "outputs": [
    {
     "name": "stdout",
     "output_type": "stream",
     "text": [
      "channels_first.shape: torch.Size([64, 3, 32, 32])\n",
      "torch.Size([64, 3, 1024])\n",
      "torch.Size([64, 3, 4096])\n"
     ]
    }
   ],
   "source": [
    "from einops import einsum, rearrange\n",
    "import torch\n",
    "height = width = 32\n",
    "\n",
    "channels_last = torch.randn(64, height, width, 3)\n",
    "B = torch.randn(32*32, 64*64)\n",
    "channels_first = rearrange(\n",
    "    channels_last,\n",
    "    \"batch height width channel -> batch channel height width\"\n",
    ")\n",
    "print(f\"channels_first.shape: {channels_first.shape}\")\n",
    "channels_first_flat = rearrange(\n",
    "    channels_first,\n",
    "    \"batch channel height width -> batch channel (height width)\"\n",
    ")\n",
    "print(channels_first_flat.shape)\n",
    "\n",
    "channels_first_flat_transformed = einsum(\n",
    "    channels_first_flat, B,\n",
    "    \"batch  channel hin, hin hout  -> batch channel hout\"\n",
    ")\n",
    "print(channels_first_flat_transformed.shape)"
   ]
  },
  {
   "cell_type": "code",
   "execution_count": 20,
   "id": "1d7a5114",
   "metadata": {},
   "outputs": [
    {
     "name": "stdout",
     "output_type": "stream",
     "text": [
      "tensor([[1., 1., 1., 1., 1., 1., 1., 1., 1., 1.]])\n",
      "tensor([[-0.0183,  0.0090, -0.0021, -0.0199, -0.0494, -0.0481, -0.0379,  0.0444,\n",
      "         -0.0296, -0.0204]])\n"
     ]
    }
   ],
   "source": [
    "import torch \n",
    "\n",
    "a =torch.ones(1,10)\n",
    "print(a)\n",
    "torch.nn.init.trunc_normal_(a,mean = 0, std = 0.1, a =-0.05, b =0.05)\n",
    "print(a)"
   ]
  }
 ],
 "metadata": {
  "kernelspec": {
   "display_name": ".venv",
   "language": "python",
   "name": "python3"
  },
  "language_info": {
   "codemirror_mode": {
    "name": "ipython",
    "version": 3
   },
   "file_extension": ".py",
   "mimetype": "text/x-python",
   "name": "python",
   "nbconvert_exporter": "python",
   "pygments_lexer": "ipython3",
   "version": "3.12.7"
  }
 },
 "nbformat": 4,
 "nbformat_minor": 5
}
