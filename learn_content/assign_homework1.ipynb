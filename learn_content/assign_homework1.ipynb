{
 "cells": [
  {
   "cell_type": "markdown",
   "id": "bb385651",
   "metadata": {},
   "source": [
    "# 这个是我系统的学习大模型的jupter book"
   ]
  },
  {
   "cell_type": "code",
   "execution_count": 4,
   "id": "7d7a2d1d",
   "metadata": {},
   "outputs": [
    {
     "data": {
      "text/plain": [
       "(b'h', b'e')"
      ]
     },
     "execution_count": 4,
     "metadata": {},
     "output_type": "execute_result"
    }
   ],
   "source": [
    "ord(\"a\")\n",
    "qw = (b\" \",b\"a\")\n",
    "qw1 = (b\"h\",b\"e\")\n",
    "\n",
    "max(qw, qw1)  # 104"
   ]
  },
  {
   "cell_type": "code",
   "execution_count": 17,
   "id": "aaee1667",
   "metadata": {},
   "outputs": [
    {
     "ename": "TypeError",
     "evalue": "sum() can't sum bytes [use b''.join(seq) instead]",
     "output_type": "error",
     "traceback": [
      "\u001b[31m---------------------------------------------------------------------------\u001b[39m",
      "\u001b[31mTypeError\u001b[39m                                 Traceback (most recent call last)",
      "\u001b[36mCell\u001b[39m\u001b[36m \u001b[39m\u001b[32mIn[17]\u001b[39m\u001b[32m, line 5\u001b[39m\n\u001b[32m      3\u001b[39m \u001b[38;5;28mmax\u001b[39m(x)  \u001b[38;5;66;03m#\u001b[39;00m\n\u001b[32m      4\u001b[39m x= \u001b[33mb\u001b[39m\u001b[33m'\u001b[39m\u001b[33ma\u001b[39m\u001b[33m'\u001b[39m + \u001b[33mb\u001b[39m\u001b[33m'\u001b[39m\u001b[33mb\u001b[39m\u001b[33m'\u001b[39m\n\u001b[32m----> \u001b[39m\u001b[32m5\u001b[39m \u001b[38;5;28;43msum\u001b[39;49m\u001b[43m(\u001b[49m\u001b[33;43mb\u001b[39;49m\u001b[33;43m'\u001b[39;49m\u001b[33;43ma\u001b[39;49m\u001b[33;43m'\u001b[39;49m\u001b[43m,\u001b[49m\u001b[33;43mb\u001b[39;49m\u001b[33;43m'\u001b[39;49m\u001b[33;43mb\u001b[39;49m\u001b[33;43m'\u001b[39;49m\u001b[43m)\u001b[49m  \u001b[38;5;66;03m# 97\u001b[39;00m\n",
      "\u001b[31mTypeError\u001b[39m: sum() can't sum bytes [use b''.join(seq) instead]"
     ]
    }
   ],
   "source": [
    "chr(32)\n",
    "x = [b'z', b'basdas',b'dc', b'c']\n",
    "max(x)  #\n",
    "x= b'a' + b'b'\n",
    "sum(b'a',b'b')  # 97"
   ]
  },
  {
   "cell_type": "code",
   "execution_count": 16,
   "id": "14c64816",
   "metadata": {},
   "outputs": [
    {
     "name": "stdout",
     "output_type": "stream",
     "text": [
      "a is a\n",
      "a.__repr__() is 'a'\n"
     ]
    }
   ],
   "source": [
    "a = \"a\"\n",
    "print(f\"a is {a}\")\n",
    "print(f\"a.__repr__() is {a.__repr__()}\")"
   ]
  },
  {
   "cell_type": "code",
   "execution_count": 17,
   "id": "247e0e9e",
   "metadata": {},
   "outputs": [
    {
     "data": {
      "text/plain": [
       "'\\x00'"
      ]
     },
     "execution_count": 17,
     "metadata": {},
     "output_type": "execute_result"
    }
   ],
   "source": [
    "chr(0)"
   ]
  },
  {
   "cell_type": "code",
   "execution_count": 18,
   "id": "ab48c0e9",
   "metadata": {},
   "outputs": [
    {
     "name": "stdout",
     "output_type": "stream",
     "text": [
      "\u0000\n"
     ]
    }
   ],
   "source": [
    "print(chr(0))"
   ]
  },
  {
   "cell_type": "code",
   "execution_count": 19,
   "id": "7d9e0a9d",
   "metadata": {},
   "outputs": [
    {
     "data": {
      "text/plain": [
       "'this is a test\\x00string'"
      ]
     },
     "execution_count": 19,
     "metadata": {},
     "output_type": "execute_result"
    }
   ],
   "source": [
    "\"this is a test\" + chr(0) + \"string\""
   ]
  },
  {
   "cell_type": "code",
   "execution_count": 20,
   "id": "5346e8e8",
   "metadata": {},
   "outputs": [
    {
     "name": "stdout",
     "output_type": "stream",
     "text": [
      "this is a test\u0000string\n"
     ]
    }
   ],
   "source": [
    "print(\"this is a test\" + chr(0) + \"string\")"
   ]
  },
  {
   "cell_type": "markdown",
   "id": "9d8b645a",
   "metadata": {},
   "source": [
    "### 1.a\n",
    "chr(0) 的返回时\\x00\n",
    "### 1.b\n",
    "大一sicp学过，repr会把本质给打印出来，print更加注重可见性\n",
    "\n",
    "### 1.c \n",
    "同上"
   ]
  },
  {
   "cell_type": "code",
   "execution_count": 21,
   "id": "b3eb22e6",
   "metadata": {},
   "outputs": [
    {
     "name": "stdout",
     "output_type": "stream",
     "text": [
      "b'\\xe4\\xbd\\xa0\\xe5\\xa5\\xbd\\xef\\xbc\\x8c\\xe5\\x8d\\x97\\xe4\\xba\\xac'\n",
      "<class 'bytes'>\n",
      "[228, 189, 160, 229, 165, 189, 239, 188, 140, 229, 141, 151, 228, 186, 172]\n",
      "5\n",
      "15\n",
      "你好，南京\n"
     ]
    }
   ],
   "source": [
    "test_string = \"你好，南京\"\n",
    "utf8_encoded = test_string.encode(\"utf-8\")\n",
    "print(utf8_encoded)\n",
    "print(type(utf8_encoded))\n",
    "\n",
    "# get the integer\n",
    "listed_utf8_encoded = list(utf8_encoded)\n",
    "print(listed_utf8_encoded)\n",
    "\n",
    "print(len(test_string))\n",
    "print(len(listed_utf8_encoded))\n",
    "print(utf8_encoded.decode('utf-8'))\n"
   ]
  },
  {
   "cell_type": "markdown",
   "id": "e33e680d",
   "metadata": {},
   "source": [
    "## 下面对比使用utf-8和utf-16，utf-32有什么区别\n",
    "对应英文节省空间啊，对于汉语可能utf-16有优势，但是中英文数字标点都存在，所以差距可以接受；对于emj都是4字节，无区别"
   ]
  },
  {
   "cell_type": "code",
   "execution_count": 22,
   "id": "4a56da53",
   "metadata": {},
   "outputs": [
    {
     "name": "stdout",
     "output_type": "stream",
     "text": [
      "utf8_encoded is b'hello, nanjing' \n",
      "         utf16_encoded is b'\\xff\\xfeh\\x00e\\x00l\\x00l\\x00o\\x00,\\x00 \\x00n\\x00a\\x00n\\x00j\\x00i\\x00n\\x00g\\x00' \n",
      "         utf32_encoded is b'\\xff\\xfe\\x00\\x00h\\x00\\x00\\x00e\\x00\\x00\\x00l\\x00\\x00\\x00l\\x00\\x00\\x00o\\x00\\x00\\x00,\\x00\\x00\\x00 \\x00\\x00\\x00n\\x00\\x00\\x00a\\x00\\x00\\x00n\\x00\\x00\\x00j\\x00\\x00\\x00i\\x00\\x00\\x00n\\x00\\x00\\x00g\\x00\\x00\\x00' \n",
      " \n",
      "listed_utf8_encoded is [104, 101, 108, 108, 111, 44, 32, 110, 97, 110, 106, 105, 110, 103] length : 14 \n",
      "         listed_utf16_encoded is [255, 254, 104, 0, 101, 0, 108, 0, 108, 0, 111, 0, 44, 0, 32, 0, 110, 0, 97, 0, 110, 0, 106, 0, 105, 0, 110, 0, 103, 0]  length : 30 \n",
      "         listed_utf32_encoded is [255, 254, 0, 0, 104, 0, 0, 0, 101, 0, 0, 0, 108, 0, 0, 0, 108, 0, 0, 0, 111, 0, 0, 0, 44, 0, 0, 0, 32, 0, 0, 0, 110, 0, 0, 0, 97, 0, 0, 0, 110, 0, 0, 0, 106, 0, 0, 0, 105, 0, 0, 0, 110, 0, 0, 0, 103, 0, 0, 0] length : 60 \n",
      " \n"
     ]
    }
   ],
   "source": [
    "s = \"hello, nanjing\"\n",
    "utf8_encoded = s.encode('utf-8')\n",
    "utf16_encoded = s.encode('utf-16')\n",
    "utf32_encoded = s.encode('utf-32')\n",
    "print(f\"utf8_encoded is {utf8_encoded} \\n \\\n",
    "        utf16_encoded is {utf16_encoded} \\n \\\n",
    "        utf32_encoded is {utf32_encoded} \\n \")\n",
    "\n",
    "listed_utf8_encoded = list(utf8_encoded)\n",
    "listed_utf16_encoded = list(utf16_encoded)\n",
    "listed_utf32_encoded = list(utf32_encoded)\n",
    "\n",
    "print(f\"listed_utf8_encoded is {listed_utf8_encoded} length : {len(listed_utf8_encoded)} \\n \\\n",
    "        listed_utf16_encoded is {listed_utf16_encoded}  length : {len(listed_utf16_encoded)} \\n \\\n",
    "        listed_utf32_encoded is {listed_utf32_encoded} length : {len(listed_utf32_encoded)} \\n \")\n"
   ]
  },
  {
   "cell_type": "markdown",
   "id": "cf9ab4c7",
   "metadata": {},
   "source": []
  },
  {
   "cell_type": "markdown",
   "id": "decee338",
   "metadata": {},
   "source": [
    "## 2.b 如果是一个字符能够用一个字节进行表示，那么正确，否则就是错误的"
   ]
  },
  {
   "cell_type": "code",
   "execution_count": 23,
   "id": "1621abb0",
   "metadata": {},
   "outputs": [
    {
     "name": "stdout",
     "output_type": "stream",
     "text": [
      "hello\n"
     ]
    }
   ],
   "source": [
    "s = \"南京\"\n",
    "p =\"hello\"\n",
    "def decode_utf8_bytes_to_str_wrong(bytestring: bytes):\n",
    "    return \"\".join([bytes([b]).decode(\"utf-8\") for b in bytestring])\n",
    "\n",
    "s_encoded =  s.encode('utf-8')\n",
    "p_encoded =  p.encode('utf-8')\n",
    "# s_decoded = decode_utf8_bytes_to_str_wrong(s_encoded)\n",
    "p_decoded = decode_utf8_bytes_to_str_wrong(p_encoded)\n",
    "\n",
    "# print(s_decoded)\n",
    "print(p_decoded)"
   ]
  },
  {
   "cell_type": "markdown",
   "id": "b9e42ad5",
   "metadata": {},
   "source": [
    "2.c 一个简单的例子是字节序列 **0xC0 0xAF**。\n",
    "解释：在 UTF-8 规则里，0xC0 是一个 “2 字节序列的起始字节”（它表示一个 ≥ 0x80 的字符），但紧接着的 0xAF 是合法的 “continuation” 字节，却这个组合被视为 “overlong encoding”（即用两字节来表示一个本应用一个字节的字符）而在标准 UTF-8 解码中必须被拒绝，因此这个两字节序列不被解码为任何有效 Unicode 字符。\n"
   ]
  },
  {
   "cell_type": "code",
   "execution_count": 4,
   "id": "cc4e926f",
   "metadata": {},
   "outputs": [
    {
     "name": "stdout",
     "output_type": "stream",
     "text": [
      "token = 'some', span = 0..4\n",
      "token = ' text', span = 4..9\n",
      "token = ' that', span = 9..14\n",
      "token = ' i', span = 14..16\n",
      "token = \"'ll\", span = 16..19\n",
      "token = ' pre', span = 19..23\n",
      "token = '-', span = 23..24\n",
      "token = 'tokenize', span = 24..32\n"
     ]
    }
   ],
   "source": [
    "PAT = r\"\"\"'(?:[sdmt]|ll|ve|re)| ?\\p{L}+| ?\\p{N}+| ?[^\\s\\p{L}\\p{N}]+|\\s+(?!\\S)|\\s+\"\"\"\n",
    "import regex as re\n",
    "\n",
    "re.findall(PAT, \"some text that i'll pre-tokenize\")\n",
    "token_iter = re.finditer(PAT, \"some text that i'll pre-tokenize\")\n",
    "for m in token_iter:\n",
    "    print(f\"token = {repr(m.group())}, span = {m.start()}..{m.end()}\")"
   ]
  },
  {
   "cell_type": "code",
   "execution_count": 23,
   "id": "9543696b",
   "metadata": {},
   "outputs": [
    {
     "name": "stdout",
     "output_type": "stream",
     "text": [
      "torch.Size([3, 4, 4])\n"
     ]
    }
   ],
   "source": [
    "import torch\n",
    "from einops import rearrange, einsum\n",
    "\n",
    "\n",
    "D = torch.randn(3,4,768)\n",
    "A = torch.randn(3,4,768)\n",
    "# Hard to tell the input and output shapes and what they mean.\n",
    "# What shapes can D and A have, and do any of these have unexpected behavior?\n",
    "## Einsum is self-documenting and robust\n",
    "# D A -> Y\n",
    "Y = einsum(D, A, \"batch seq1 d_in, batch seq2 d_out -> batch seq1 seq2\")\n",
    "print(Y.shape)\n",
    "\n"
   ]
  },
  {
   "cell_type": "markdown",
   "id": "49e01892",
   "metadata": {},
   "source": [
    "下面是学习einsum及相关库的操作"
   ]
  },
  {
   "cell_type": "code",
   "execution_count": 3,
   "id": "8077f2ad",
   "metadata": {},
   "outputs": [],
   "source": [
    "import torch\n",
    "from einops import rearrange, einsum"
   ]
  },
  {
   "cell_type": "code",
   "execution_count": 15,
   "id": "493c4335",
   "metadata": {},
   "outputs": [
    {
     "name": "stdout",
     "output_type": "stream",
     "text": [
      "dim_by.shape is torch.Size([10])\n",
      "dim_value.shape is torch.Size([1, 10, 1, 1, 1])\n",
      "images_rearr.shape is torch.Size([64, 1, 128, 128, 3])\n",
      "dimmed_images.shape is torch.Size([64, 10, 128, 128, 3])\n",
      "dimmed_images.shape is torch.Size([64, 10, 128, 128, 3])\n"
     ]
    }
   ],
   "source": [
    "\n",
    "images = torch.randn(64, 128, 128, 3)\n",
    "dim_by = torch.linspace(start=0.0, end=1.0, steps=10)\n",
    "print(f\"dim_by.shape is {dim_by.shape}\")\n",
    "# 可以当作view，改变张量的形状\n",
    "dim_value = rearrange(dim_by, \"dim_value -> 1 dim_value 1 1 1\")\n",
    "print(f\"dim_value.shape is {dim_value.shape}\")\n",
    "images_rearr = rearrange(images, \"b height width channel -> b 1 height width channel\")\n",
    "print(f\"images_rearr.shape is {images_rearr.shape}\")\n",
    "\n",
    "\n",
    "# 给每一个批次每一张图片加上噪声\n",
    "dimmed_images = images_rearr * dim_value\n",
    "print(f\"dimmed_images.shape is {dimmed_images.shape}\")\n",
    "\n",
    "dimmed_images = einsum(\n",
    "images, dim_by,\n",
    "\"batch height width channel, dim_value -> batch dim_value height width channel\"\n",
    ")\n",
    "print(f\"dimmed_images.shape is {dimmed_images.shape}\")\n",
    "\n",
    "\n",
    "\n"
   ]
  },
  {
   "cell_type": "code",
   "execution_count": null,
   "id": "88680a05",
   "metadata": {},
   "outputs": [
    {
     "name": "stdout",
     "output_type": "stream",
     "text": [
      "channels_first_flat_transformed.shape is torch.Size([64, 3, 1024])\n"
     ]
    }
   ],
   "source": [
    "channels_last = torch.randn(64, 32, 32, 3)\n",
    "B = torch.randn(32*32 ,32*32)\n",
    "\n",
    "\n",
    "# 长度和高度揉在一起\n",
    "channels_last_flat = channels_last.view(\n",
    "    -1, channels_last.size(1) * channels_last.size(2), channels_last.size(3)\n",
    ")\n",
    "\n",
    "# 将通道和长宽进行转换\n",
    "channels_first_flat = channels_last_flat.transpose(1, 2)\n",
    "\n",
    "channels_first_flat_transformed = channels_first_flat @ B.T\n",
    "print(f\"channels_first_flat_transformed.shape is {channels_first_flat_transformed.shape}\")\n",
    "\n",
    "# 通道放到最后一个维度\n",
    "channels_last_flat_transformed = channels_first_flat_transformed.transpose(1, 2)\n"
   ]
  }
 ],
 "metadata": {
  "kernelspec": {
   "display_name": "llmprobe",
   "language": "python",
   "name": "python3"
  },
  "language_info": {
   "codemirror_mode": {
    "name": "ipython",
    "version": 3
   },
   "file_extension": ".py",
   "mimetype": "text/x-python",
   "name": "python",
   "nbconvert_exporter": "python",
   "pygments_lexer": "ipython3",
   "version": "3.10.18"
  }
 },
 "nbformat": 4,
 "nbformat_minor": 5
}
