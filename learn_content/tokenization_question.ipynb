{
 "cells": [
  {
   "cell_type": "markdown",
   "id": "eb48415c",
   "metadata": {},
   "source": [
    "这个文档是专门回答pdf里面问题的一个文档"
   ]
  },
  {
   "cell_type": "markdown",
   "id": "00f0e809",
   "metadata": {},
   "source": [
    "Problem (tokenizer_experiments): Experiments with tokenizers (4 points)"
   ]
  }
 ],
 "metadata": {
  "kernelspec": {
   "display_name": "llmprobe",
   "language": "python",
   "name": "python3"
  },
  "language_info": {
   "name": "python",
   "version": "3.10.18"
  }
 },
 "nbformat": 4,
 "nbformat_minor": 5
}
